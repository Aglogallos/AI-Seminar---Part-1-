{
  "cells": [
    {
      "cell_type": "markdown",
      "source": [
        "# AI Seminar Practical Test\n",
        "\n",
        "**Συμπληρώστε παρακάτω τα στοιχεία σας:**\n",
        "\n",
        "**Επώνυμο:** Αγγλογάλλος \n",
        "\n",
        "**Όνομα:** Αναστάσιος\n",
        "\n",
        "**Σχολή:** ΗΜΜΥ\n",
        "\n",
        "**Α.Μ.:** 03118641\n",
        "\n",
        "\n",
        "\n",
        "### Ζητούμενα - Οδηγίες\n",
        "Καλείστε να χρησιμοποιήσετε τη μέθοδο **(Gaussian) Naive Bayes** της Python scikit-learn για την ταξινόμηση της προέλευσης του κρασιού με βάση τη φυσικοχημική δεδομένα ανάλυσης. Θα χρησιμοποιήσετε το Wine Data Set του UCI Machine Learning Repository. Αυτά τα δεδομένα είναι τα αποτελέσματα μιας χημικής ανάλυσης κρασιών που καλλιεργούνται στην ίδια περιοχή στην Ιταλία αλλά προέρχονται από τρεις διαφορετικές ποικιλίες. Η ανάλυση προσδιόρισε τις ποσότητες 13 συστατικών που βρέθηκαν σε καθένα από τα τρία είδη κρασιών. Μπορείτε να βρείτε λεπτομέρειες [εδώ](http://archive.ics.uci.edu/ml/datasets/Wine).\n",
        "\n",
        "Kατεβάστε το dataset από [εδώ](https://drive.google.com/file/d/1OKzRlTnmJavmXBJjRhUZO_VA-u_dqylN/view?usp=share_link)\n",
        "\n",
        "Χρησιμοποιήστε όλα τα (13) χαρακτηριστικά για να κάνετε την ταξινόμηση. Χωρίστε τα training & test sets με αναλογία της επιλογής σας, αιτιολογώντας την με συντομία. \n",
        "Θα πρέπει να εμφανίσετε σε πίνακες τα εξής αποτελέσματα:\n",
        "- accuracy, precision, recall, f1-score (α) ανά κλάση και (β) συνολικά.\n",
        "- confusion matrix\n",
        "\n",
        "Για οποιοδήποτε βήμα δεν δίνεται συγκεκριμένη οδηγία (επιλογή παραμέτρων, προεπεξεργασία δεδομένων, κ.λπ.) έχετε την ελευθερία επιλογής, παραθέτοντας μια σύντομη εξήγηση της επιλογής σας.\n",
        "\n",
        "Θα πρέπει να ανεβάσετε το notebook σας στο helios στο σημείο που θα σας υποδειχθεί.\n",
        "**Πριν το ανεβάσετε, βεβαιωθείτε ότι έχετε τρέξει όλα τα κελιά κώδικα που υπάρχουν στο notebook σας.**\n",
        "\n",
        "Καλή επιτυχία!\n",
        "\n"
      ],
      "metadata": {
        "id": "qcZvv_3VH2Tx"
      }
    },
    {
      "cell_type": "markdown",
      "source": [
        "Αρχικά κάνουμε import τις απαραίτητες βιβλιοθήκες και έπειτα κάνουμε load το dataset"
      ],
      "metadata": {
        "id": "xRFkZnVPKNi4"
      }
    },
    {
      "cell_type": "code",
      "source": [
        "# Libraries\n",
        "import pandas as pd\n",
        "import numpy as np\n",
        "from sklearn.naive_bayes import GaussianNB\n",
        "from sklearn.model_selection import train_test_split\n",
        "from sklearn.metrics import classification_report, confusion_matrix\n",
        "\n",
        "# Load dataset\n",
        "url = \"https://drive.google.com/file/d/1OKzRlTnmJavmXBJjRhUZO_VA-u_dqylN/view\"\n",
        "file_id = url.split('/')[-2]\n",
        "dwn_url = 'https://drive.google.com/uc?id=' + file_id\n",
        "wine = pd.read_csv(dwn_url)\n"
      ],
      "metadata": {
        "id": "Xu5YsjhRJJLn"
      },
      "execution_count": 1,
      "outputs": []
    },
    {
      "cell_type": "markdown",
      "source": [
        "Σε αυτό το σημείο θα διαχωρίσουμε τα δεδομένα σε δεδομένα προς εκπαίδευση και δεδομένα για την αξιολόγηση του μοντέλου μας. Θα κάνουμε διαχωρισμό 70 / 30 όπως κάναμε και στο μάθημα των Νευρωνικών Δικτύων. Θα μπορούσαμε να διαλέξουμε και άλλο νούμερο , η μόνη προυπόθεση το train set να είναι σημαντικά μεγαλύτερο από το train set."
      ],
      "metadata": {
        "id": "Va3nEb2lKTcJ"
      }
    },
    {
      "cell_type": "code",
      "source": [
        "# Split data into a train set (70%) and a test set (30%)\n",
        "X = wine.iloc[:, 1:].values\n",
        "y = wine.iloc[:, 0].values\n",
        "X_train, X_test, y_train, y_test = train_test_split(X, y, test_size=0.3, random_state=0)\n"
      ],
      "metadata": {
        "id": "qJMikTRgKVms"
      },
      "execution_count": 2,
      "outputs": []
    },
    {
      "cell_type": "markdown",
      "source": [
        "Αρχικοιποιούμε ένα GNB classifier και έπειτα τον εκπαιδεύουμε στο train set "
      ],
      "metadata": {
        "id": "qPBOP9HCKZRo"
      }
    },
    {
      "cell_type": "code",
      "source": [
        "# Initialise GNB classifier\n",
        "clf = GaussianNB()\n",
        "\n",
        "# Train clf on the training set\n",
        "clf.fit(X_train, y_train)"
      ],
      "metadata": {
        "colab": {
          "base_uri": "https://localhost:8080/",
          "height": 52
        },
        "id": "0-Kxvr9-KXgs",
        "outputId": "d88c4a5b-2195-410f-df64-4f8f512121a0"
      },
      "execution_count": 3,
      "outputs": [
        {
          "output_type": "execute_result",
          "data": {
            "text/plain": [
              "GaussianNB()"
            ],
            "text/html": [
              "<style>#sk-container-id-1 {color: black;background-color: white;}#sk-container-id-1 pre{padding: 0;}#sk-container-id-1 div.sk-toggleable {background-color: white;}#sk-container-id-1 label.sk-toggleable__label {cursor: pointer;display: block;width: 100%;margin-bottom: 0;padding: 0.3em;box-sizing: border-box;text-align: center;}#sk-container-id-1 label.sk-toggleable__label-arrow:before {content: \"▸\";float: left;margin-right: 0.25em;color: #696969;}#sk-container-id-1 label.sk-toggleable__label-arrow:hover:before {color: black;}#sk-container-id-1 div.sk-estimator:hover label.sk-toggleable__label-arrow:before {color: black;}#sk-container-id-1 div.sk-toggleable__content {max-height: 0;max-width: 0;overflow: hidden;text-align: left;background-color: #f0f8ff;}#sk-container-id-1 div.sk-toggleable__content pre {margin: 0.2em;color: black;border-radius: 0.25em;background-color: #f0f8ff;}#sk-container-id-1 input.sk-toggleable__control:checked~div.sk-toggleable__content {max-height: 200px;max-width: 100%;overflow: auto;}#sk-container-id-1 input.sk-toggleable__control:checked~label.sk-toggleable__label-arrow:before {content: \"▾\";}#sk-container-id-1 div.sk-estimator input.sk-toggleable__control:checked~label.sk-toggleable__label {background-color: #d4ebff;}#sk-container-id-1 div.sk-label input.sk-toggleable__control:checked~label.sk-toggleable__label {background-color: #d4ebff;}#sk-container-id-1 input.sk-hidden--visually {border: 0;clip: rect(1px 1px 1px 1px);clip: rect(1px, 1px, 1px, 1px);height: 1px;margin: -1px;overflow: hidden;padding: 0;position: absolute;width: 1px;}#sk-container-id-1 div.sk-estimator {font-family: monospace;background-color: #f0f8ff;border: 1px dotted black;border-radius: 0.25em;box-sizing: border-box;margin-bottom: 0.5em;}#sk-container-id-1 div.sk-estimator:hover {background-color: #d4ebff;}#sk-container-id-1 div.sk-parallel-item::after {content: \"\";width: 100%;border-bottom: 1px solid gray;flex-grow: 1;}#sk-container-id-1 div.sk-label:hover label.sk-toggleable__label {background-color: #d4ebff;}#sk-container-id-1 div.sk-serial::before {content: \"\";position: absolute;border-left: 1px solid gray;box-sizing: border-box;top: 0;bottom: 0;left: 50%;z-index: 0;}#sk-container-id-1 div.sk-serial {display: flex;flex-direction: column;align-items: center;background-color: white;padding-right: 0.2em;padding-left: 0.2em;position: relative;}#sk-container-id-1 div.sk-item {position: relative;z-index: 1;}#sk-container-id-1 div.sk-parallel {display: flex;align-items: stretch;justify-content: center;background-color: white;position: relative;}#sk-container-id-1 div.sk-item::before, #sk-container-id-1 div.sk-parallel-item::before {content: \"\";position: absolute;border-left: 1px solid gray;box-sizing: border-box;top: 0;bottom: 0;left: 50%;z-index: -1;}#sk-container-id-1 div.sk-parallel-item {display: flex;flex-direction: column;z-index: 1;position: relative;background-color: white;}#sk-container-id-1 div.sk-parallel-item:first-child::after {align-self: flex-end;width: 50%;}#sk-container-id-1 div.sk-parallel-item:last-child::after {align-self: flex-start;width: 50%;}#sk-container-id-1 div.sk-parallel-item:only-child::after {width: 0;}#sk-container-id-1 div.sk-dashed-wrapped {border: 1px dashed gray;margin: 0 0.4em 0.5em 0.4em;box-sizing: border-box;padding-bottom: 0.4em;background-color: white;}#sk-container-id-1 div.sk-label label {font-family: monospace;font-weight: bold;display: inline-block;line-height: 1.2em;}#sk-container-id-1 div.sk-label-container {text-align: center;}#sk-container-id-1 div.sk-container {/* jupyter's `normalize.less` sets `[hidden] { display: none; }` but bootstrap.min.css set `[hidden] { display: none !important; }` so we also need the `!important` here to be able to override the default hidden behavior on the sphinx rendered scikit-learn.org. See: https://github.com/scikit-learn/scikit-learn/issues/21755 */display: inline-block !important;position: relative;}#sk-container-id-1 div.sk-text-repr-fallback {display: none;}</style><div id=\"sk-container-id-1\" class=\"sk-top-container\"><div class=\"sk-text-repr-fallback\"><pre>GaussianNB()</pre><b>In a Jupyter environment, please rerun this cell to show the HTML representation or trust the notebook. <br />On GitHub, the HTML representation is unable to render, please try loading this page with nbviewer.org.</b></div><div class=\"sk-container\" hidden><div class=\"sk-item\"><div class=\"sk-estimator sk-toggleable\"><input class=\"sk-toggleable__control sk-hidden--visually\" id=\"sk-estimator-id-1\" type=\"checkbox\" checked><label for=\"sk-estimator-id-1\" class=\"sk-toggleable__label sk-toggleable__label-arrow\">GaussianNB</label><div class=\"sk-toggleable__content\"><pre>GaussianNB()</pre></div></div></div></div></div>"
            ]
          },
          "metadata": {},
          "execution_count": 3
        }
      ]
    },
    {
      "cell_type": "markdown",
      "source": [
        "Τέλος βάζουμε τον classifier που έχουμε εκπαιδεύσει να προβλέψει την κατηγοριοποίηση των δεδομένων του test set. Έπειτα κοιτάμε στο report τα ζητούμενα : "
      ],
      "metadata": {
        "id": "tv0u-5E8KaEO"
      }
    },
    {
      "cell_type": "code",
      "source": [
        "# Predict the test set's classification\n",
        "y_pred = clf.predict(X_test)\n",
        "\n",
        "# Performance Report\n",
        "print(classification_report(y_test, y_pred))\n",
        "# Total Accuracy\n",
        "print(\"Accuracy:\", clf.score(X_test, y_test))\n",
        "# Confusion Matrix\n",
        "print(\"\\nConfusion Matrix:\\n\", confusion_matrix(y_test, y_pred))"
      ],
      "metadata": {
        "colab": {
          "base_uri": "https://localhost:8080/"
        },
        "id": "q_VArtsCKk8K",
        "outputId": "42dc958e-e0c2-4306-9941-9b2aaeb08182"
      },
      "execution_count": 5,
      "outputs": [
        {
          "output_type": "stream",
          "name": "stdout",
          "text": [
            "              precision    recall  f1-score   support\n",
            "\n",
            "           1       0.90      1.00      0.95        19\n",
            "           2       1.00      0.86      0.93        22\n",
            "           3       0.93      1.00      0.96        13\n",
            "\n",
            "    accuracy                           0.94        54\n",
            "   macro avg       0.94      0.95      0.95        54\n",
            "weighted avg       0.95      0.94      0.94        54\n",
            "\n",
            "Accuracy: 0.9444444444444444\n",
            "\n",
            "Confusion Matrix:\n",
            " [[19  0  0]\n",
            " [ 2 19  1]\n",
            " [ 0  0 13]]\n"
          ]
        }
      ]
    },
    {
      "cell_type": "markdown",
      "source": [
        "Παρατηρούμε ότι ο ταξινομητής κατεφέρνει να έχει accuracy 0.955 το οποίο είναι αρκετά υψηλό. Τo precission, recall και το f1-score για κάθε κλάση είναι επίση υψηλό το οποίο σημαίνει ότι ο gnb συμπεριφέρετε καλά σε κάθε κλάση. \n",
        "\n",
        "\n",
        "\n",
        "Γνωρίζουμε ότι ο GNB ταξινομητής δουλεύει σωστά και βγάζει υψηλά αποτελέσματα όταν τα δεδομένα έχουν Gaussian κατανομή. Οπότε μπορούμε να υποθέσουμε πως το ίδιο γίνεται και στην περιπτωσή μας."
      ],
      "metadata": {
        "id": "x4NGkm3fKmGj"
      }
    }
  ],
  "metadata": {
    "kernelspec": {
      "display_name": "Python 3",
      "language": "python",
      "name": "python3"
    },
    "language_info": {
      "codemirror_mode": {
        "name": "ipython",
        "version": 3
      },
      "file_extension": ".py",
      "mimetype": "text/x-python",
      "name": "python",
      "nbconvert_exporter": "python",
      "pygments_lexer": "ipython3",
      "version": "3.6.2"
    },
    "colab": {
      "provenance": []
    }
  },
  "nbformat": 4,
  "nbformat_minor": 0
}